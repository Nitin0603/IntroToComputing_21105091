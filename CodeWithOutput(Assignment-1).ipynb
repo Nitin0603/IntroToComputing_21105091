{
  "nbformat": 4,
  "nbformat_minor": 0,
  "metadata": {
    "colab": {
      "name": "Untitled0.ipynb",
      "provenance": [],
      "authorship_tag": "ABX9TyOBf4TEqFOj8MVeGa1b0+aH",
      "include_colab_link": true
    },
    "kernelspec": {
      "name": "python3",
      "display_name": "Python 3"
    },
    "language_info": {
      "name": "python"
    }
  },
  "cells": [
    {
      "cell_type": "markdown",
      "metadata": {
        "id": "view-in-github",
        "colab_type": "text"
      },
      "source": [
        "<a href=\"https://colab.research.google.com/github/Nitin0603/IntroToComputing_21105091/blob/main/CodeWithOutput.ipynb\" target=\"_parent\"><img src=\"https://colab.research.google.com/assets/colab-badge.svg\" alt=\"Open In Colab\"/></a>"
      ]
    },
    {
      "cell_type": "code",
      "execution_count": 1,
      "metadata": {
        "colab": {
          "base_uri": "https://localhost:8080/"
        },
        "id": "uufOzyLQ4LPL",
        "outputId": "4ecb7406-060d-4809-ab41-1a7156fb18f9"
      },
      "outputs": [
        {
          "output_type": "stream",
          "name": "stdout",
          "text": [
            "Enter first number : 12\n",
            "Enter second number : 13\n",
            "Enter third number : 14\n",
            "Average of three numbers : 13.0\n"
          ]
        }
      ],
      "source": [
        "# Average of three numbers (Ans-1)\n",
        "\n",
        "first_number=int(input(\"Enter first number : \"))\n",
        "second_number=int(input(\"Enter second number : \"))\n",
        "third_number=int(input(\"Enter third number : \"))\n",
        "AvgOfThreenumbers=(first_number+second_number+third_number)/3\n",
        "print(\"Average of three numbers :\",AvgOfThreenumbers)"
      ]
    },
    {
      "cell_type": "code",
      "source": [
        "# Computing a person income tax (Ans-2)\n",
        "\n",
        "Gross_income=int(input(\"Enter your Gross income : \"))\n",
        "NumberOfDependent=int(input(\"Enter no of your Dependent(s) : \"))\n",
        "# Calculating taxable income \n",
        "standard_ded=10000\n",
        "dependent_ded=3000\n",
        "taxable_income=Gross_income-standard_ded-(dependent_ded*NumberOfDependent)\n",
        "# Calculating tax\n",
        "tax_rate=20\n",
        "tax=taxable_income*(tax_rate/100)\n",
        "if tax<=0 :\n",
        "    print(\"Your income is low so your tax 0\")\n",
        "else :\n",
        "    print(\"Your tax is :\",tax)"
      ],
      "metadata": {
        "colab": {
          "base_uri": "https://localhost:8080/"
        },
        "id": "mHOKn1mB4cs4",
        "outputId": "1750fe1c-4a36-44b9-c94e-f4c10cf8896a"
      },
      "execution_count": 5,
      "outputs": [
        {
          "output_type": "stream",
          "name": "stdout",
          "text": [
            "Enter your Gross income : 100000\n",
            "Enter no of your Dependent(s) : 2\n",
            "Your tax is : 16800.0\n"
          ]
        }
      ]
    },
    {
      "cell_type": "code",
      "source": [
        "# Store Data types into list (Ans-3)\n",
        "\n",
        "List_of_student_data=[]\n",
        "Student_SID=int(input(\"Enter your SID : \"))\n",
        "List_of_student_data.append(Student_SID)\n",
        "Name=str(input(\"Enter your name : \"))\n",
        "List_of_student_data.append(Name)\n",
        "Gender=str(input(\"Enter gender as F-female,M-male,U-unknown : \"))\n",
        "List_of_student_data.append(Gender)\n",
        "course_name=str(input(\"Enter your course name : \"))\n",
        "List_of_student_data.append(course_name)\n",
        "CGPA=float(input(\"Enter your CGPA : \"))\n",
        "List_of_student_data.append(CGPA)\n",
        "print(\"List of student data :\",List_of_student_data)"
      ],
      "metadata": {
        "colab": {
          "base_uri": "https://localhost:8080/"
        },
        "id": "n8nHtIny5b7y",
        "outputId": "b88def82-a597-45c2-aa15-2cf730af6994"
      },
      "execution_count": 6,
      "outputs": [
        {
          "output_type": "stream",
          "name": "stdout",
          "text": [
            "Enter your SID : 21105091\n",
            "Enter your name : Nitin\n",
            "Enter gender as F-female,M-male,U-unknown : M\n",
            "Enter your course name : ECE\n",
            "Enter your CGPA : 10\n",
            "List of student data : [21105091, 'Nitin', 'M', 'ECE', 10.0]\n"
          ]
        }
      ]
    },
    {
      "cell_type": "code",
      "source": [
        "# # List of Colours (Ans-5)\n",
        "\n",
        "\n",
        "# part a (Removing 4th element)\n",
        "List_of_colours=['Red', 'Green', 'White', 'Black', 'Pink', 'Yellow']\n",
        "print(\"List of colours before removing :\",List_of_colours)\n",
        "List_of_colours.pop(3)\n",
        "print(\"your list after removing 4th element :\",List_of_colours)\n",
        "print(\"\\n\")\n",
        "\n",
        "# part b (Clearing 3 to 4 and replace by purple)\n",
        "List_of_colours=['Red', 'Green', 'White', 'Black', 'Pink', 'Yellow']\n",
        "print(\"List of colours before replacing :\",List_of_colours)\n",
        "List_of_colours[3:5]=['Purple']\n",
        "print(\"your list after replacing black and pink with purple :\",List_of_colours)\n"
      ],
      "metadata": {
        "colab": {
          "base_uri": "https://localhost:8080/"
        },
        "id": "tsbB1jYQ5nAM",
        "outputId": "cf3a522c-7346-4a1c-9709-13f839ea39b4"
      },
      "execution_count": 10,
      "outputs": [
        {
          "output_type": "stream",
          "name": "stdout",
          "text": [
            "List of colours before removing : ['Red', 'Green', 'White', 'Black', 'Pink', 'Yellow']\n",
            "your list after removing 4th element : ['Red', 'Green', 'White', 'Pink', 'Yellow']\n",
            "\n",
            "\n",
            "List of colours before replacing : ['Red', 'Green', 'White', 'Black', 'Pink', 'Yellow']\n",
            "your list after replacing black and pink with purple : ['Red', 'Green', 'White', 'Purple', 'Yellow']\n"
          ]
        }
      ]
    }
  ]
}
