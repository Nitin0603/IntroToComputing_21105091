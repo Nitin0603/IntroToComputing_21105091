{
  "nbformat": 4,
  "nbformat_minor": 0,
  "metadata": {
    "colab": {
      "name": "CodeWithOutput(Assignment-2).ipynb",
      "provenance": [],
      "authorship_tag": "ABX9TyPF1+DtgGRgouRuEDmqG7Ok",
      "include_colab_link": true
    },
    "kernelspec": {
      "name": "python3",
      "display_name": "Python 3"
    },
    "language_info": {
      "name": "python"
    }
  },
  "cells": [
    {
      "cell_type": "markdown",
      "metadata": {
        "id": "view-in-github",
        "colab_type": "text"
      },
      "source": [
        "<a href=\"https://colab.research.google.com/github/Nitin0603/IntroToComputing_21105091/blob/main/CodeWithOutput(Assignment_2).ipynb\" target=\"_parent\"><img src=\"https://colab.research.google.com/assets/colab-badge.svg\" alt=\"Open In Colab\"/></a>"
      ]
    },
    {
      "cell_type": "code",
      "execution_count": 1,
      "metadata": {
        "colab": {
          "base_uri": "https://localhost:8080/"
        },
        "id": "-qqz3SMWVA2a",
        "outputId": "a0c1ea4e-5ab5-46e6-b45e-c124367f440f"
      },
      "outputs": [
        {
          "output_type": "stream",
          "name": "stdout",
          "text": [
            "Length of given string : 35\n",
            "Reverse of given string : egaugnal evitisnes esac a si nohtyP\n",
            "Slice of given string : a case sensitive\n",
            "Slice of given string : Python is object oriented language\n",
            "Index of a in given string : 10\n",
            "After Removing spaces from given string : Pythonisacasesensitivelanguage\n"
          ]
        }
      ],
      "source": [
        "# ************* Answer -1 ****************\n",
        "given_str=\"Python is a case sensitive language\"\n",
        "\n",
        "# length inbuilt function to find length (PART-A)\n",
        "len_str=len(given_str)\n",
        "print(\"Length of given string :\",len_str)\n",
        "\n",
        "# reverse string(PART-B)\n",
        "rev_str=given_str[::-1]\n",
        "print(\"Reverse of given string :\",rev_str)\n",
        "\n",
        "# slicing(PART-C)\n",
        "sliced_str=given_str[10:26]\n",
        "print(\"Slice of given string :\",sliced_str)\n",
        "\n",
        "# replacing (PART-D)\n",
        "new_str=given_str.replace(\"a case sensitive\",\"object oriented\")\n",
        "print(\"Slice of given string :\",new_str)\n",
        "\n",
        "# finding index(PART-E)\n",
        "index=given_str.find(\"a\")\n",
        "print(\"Index of a in given string :\",index)\n",
        "\n",
        "# Removing spaces(PART-F)\n",
        "new_str=given_str.replace(\" \",\"\")\n",
        "print(\"After Removing spaces from given string :\",new_str)\n"
      ]
    },
    {
      "cell_type": "code",
      "source": [
        "# # *********** Answer -2 ************\n",
        "Name=\"Nitin\"\n",
        "SID=21105091\n",
        "CGPA=9.9\n",
        "department=\"ECE\"\n",
        "print(\"Hey\",Name + \" Here!\\nMy SID is\",SID,\"\\nI am from\",department+\" and my CGPA is\",CGPA )"
      ],
      "metadata": {
        "colab": {
          "base_uri": "https://localhost:8080/"
        },
        "id": "YtlCWUHPVSto",
        "outputId": "c31c3cc9-3a3e-4f98-ecf3-de1a8fba4bde"
      },
      "execution_count": 2,
      "outputs": [
        {
          "output_type": "stream",
          "name": "stdout",
          "text": [
            "Hey Nitin Here!\n",
            "My SID is 21105091 \n",
            "I am from ECE and my CGPA is 9.9\n"
          ]
        }
      ]
    },
    {
      "cell_type": "code",
      "source": [
        "# *********** Answer -3 *************\n",
        "a=56\n",
        "b=10\n",
        "# a\n",
        "print(\"a&b :\",a&b)\n",
        "# b\n",
        "print(\"a|b :\",a|b)\n",
        "# c\n",
        "print(\"a^b :\",a^b)\n",
        "# d\n",
        "print(\"a and b left shift with 2 bits = a :\",a<<2,\"and b :\",b<<2)\n",
        "# e\n",
        "print(\"a right shift with 2 bits and b right shifts with 4 bits = a :\",a>>2,\"and b :\",b>>4)"
      ],
      "metadata": {
        "colab": {
          "base_uri": "https://localhost:8080/"
        },
        "id": "qrUSYFtLVZYR",
        "outputId": "cdd4e121-60ed-444c-9882-30ca1ffb5b1d"
      },
      "execution_count": 3,
      "outputs": [
        {
          "output_type": "stream",
          "name": "stdout",
          "text": [
            "a&b : 8\n",
            "a|b : 58\n",
            "a^b : 50\n",
            "a and b left shift with 2 bits = a : 224 and b : 40\n",
            "a right shift with 2 bits and b right shifts with 4 bits = a : 14 and b : 0\n"
          ]
        }
      ]
    },
    {
      "cell_type": "code",
      "source": [
        "# *********** Answer -4 ***********\n",
        "first_num=int(input(\"Enter the first number : \"))\n",
        "second_num=int(input(\"Enter the second number : \"))\n",
        "third_num=int(input(\"Enter the third number : \"))\n",
        "if(first_num>=second_num and first_num>=third_num):\n",
        "    print(\"Largest number is\",first_num)\n",
        "elif(third_num>=second_num and first_num<=third_num):\n",
        "    print(\"Largest number is\",third_num)\n",
        "elif(first_num<=second_num and second_num>=third_num):\n",
        "    print(\"Largest number is\",second_num)"
      ],
      "metadata": {
        "colab": {
          "base_uri": "https://localhost:8080/"
        },
        "id": "KUw5zouHVyy0",
        "outputId": "2093e4e2-4116-48f3-bd17-891170e07d29"
      },
      "execution_count": 4,
      "outputs": [
        {
          "output_type": "stream",
          "name": "stdout",
          "text": [
            "Enter the first number : 20\n",
            "Enter the second number : 30\n",
            "Enter the third number : 40\n",
            "Largest number is 40\n"
          ]
        }
      ]
    },
    {
      "cell_type": "code",
      "source": [
        "# ************ Answer -5 ************\n",
        "given_str=str(input(\"Enter string : \"))\n",
        "if(given_str.find('name')!=-1):\n",
        "    print(\"Yes\")\n",
        "else:\n",
        "    print(\"No\")"
      ],
      "metadata": {
        "colab": {
          "base_uri": "https://localhost:8080/"
        },
        "id": "zMBw461zWCEb",
        "outputId": "9f83abe9-9519-4cc0-a598-0ab551235379"
      },
      "execution_count": 5,
      "outputs": [
        {
          "output_type": "stream",
          "name": "stdout",
          "text": [
            "Enter string : hello my name is nitin\n",
            "Yes\n"
          ]
        }
      ]
    },
    {
      "cell_type": "code",
      "source": [
        "# ************ Answer -6 ***********\n",
        "Len_side1=int(input(\"Enter length of side 1st : \"))\n",
        "Len_side2=int(input(\"Enter length of side 2nd : \"))\n",
        "Len_side3=int(input(\"Enter length of side 3rd : \"))\n",
        "if(Len_side1>Len_side2+Len_side3 or Len_side2>Len_side3+Len_side1 or Len_side3>Len_side1+Len_side2):\n",
        "    print(\"No\")\n",
        "else:\n",
        "    print(\"Yes\")"
      ],
      "metadata": {
        "colab": {
          "base_uri": "https://localhost:8080/"
        },
        "id": "9507p01PWUJ_",
        "outputId": "a68c3fb4-bec0-4d58-d1d1-41cd739608b5"
      },
      "execution_count": 6,
      "outputs": [
        {
          "output_type": "stream",
          "name": "stdout",
          "text": [
            "Enter length of side 1st : 23\n",
            "Enter length of side 2nd : 12\n",
            "Enter length of side 3rd : 13\n",
            "Yes\n"
          ]
        }
      ]
    }
  ]
}